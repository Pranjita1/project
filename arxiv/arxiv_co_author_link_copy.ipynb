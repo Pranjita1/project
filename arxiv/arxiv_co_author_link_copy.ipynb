{
  "nbformat": 4,
  "nbformat_minor": 0,
  "metadata": {
    "colab": {
      "name": "arxiv co-author link copy.ipynb",
      "provenance": []
    },
    "kernelspec": {
      "name": "python3",
      "display_name": "Python 3"
    }
  },
  "cells": [
    {
      "cell_type": "code",
      "metadata": {
        "id": "ggsBvxHcC2z5",
        "colab_type": "code",
        "colab": {}
      },
      "source": [
        ""
      ],
      "execution_count": null,
      "outputs": []
    },
    {
      "cell_type": "code",
      "metadata": {
        "id": "bsu_MeS1L43a",
        "colab_type": "code",
        "colab": {
          "base_uri": "https://localhost:8080/",
          "height": 136
        },
        "outputId": "7c1171f7-2cdf-4d95-9f06-c7eed4955f0a"
      },
      "source": [
        "import arxiv_scraper as scrap\n",
        "import pandas as pd\n",
        "import numpy as np\n",
        "import pickle\n",
        "\n",
        "#scraping coauthorship information of articles in Math (Quantum Algebra subcategory) from January 1, 2018 to January 20, 2018 \n",
        "coauthorship_scraper = scrap.Scraper(category='math', date_from='2020-08-01', date_until='2020-08-10', t=10, filters={'categories':['math.qa'],'abstract':['quantum']})\n",
        "scraped_records = coauthorship_scraper.scrape()\n",
        "\n",
        "#saving scraped information into pandas dataframe\n",
        "scraped_columns = ('id', 'title', 'authors')\n",
        "data_frame = pd.DataFrame(scraped_records, columns = scraped_columns)\n",
        "\n",
        "#saving pandas dataframe into a .pkl file\n",
        "data_frame.to_pickle('data.pkl')"
      ],
      "execution_count": null,
      "outputs": [
        {
          "output_type": "stream",
          "text": [
            "http://export.arxiv.org/oai2?verb=ListRecords&from=2020-08-01&until=2020-08-10&metadataPrefix=arXiv&set=math\n",
            "fetching up to  1000 records...\n",
            "fetching up to  2000 records...\n",
            "Got 503. Retrying after 10 seconds.\n",
            "fetching up to  2000 records...\n",
            "fetching is completed in 30.8 seconds.\n",
            "Total number of records 123\n"
          ],
          "name": "stdout"
        }
      ]
    },
    {
      "cell_type": "code",
      "metadata": {
        "id": "R22YcOKTDNvH",
        "colab_type": "code",
        "colab": {}
      },
      "source": [
        ""
      ],
      "execution_count": null,
      "outputs": []
    },
    {
      "cell_type": "code",
      "metadata": {
        "id": "ztxgkbZtI_e0",
        "colab_type": "code",
        "colab": {}
      },
      "source": [
        "import pandas as pd\n",
        "import numpy as np\n",
        "import pickle\n",
        "import networkx as nx\n",
        "import matplotlib.pyplot as plt\n",
        "import collections\n",
        "import sys\n",
        "\n",
        "#function for forming an edge list. Each element in the edge list is a pair of authors which means they are co-author\n",
        "def form_edge_list(records):\n",
        "    m, n = np.shape(records)\n",
        "    edgelist = []\n",
        "\n",
        "    for index in range(m):\n",
        "        authors = records[index, 2]\n",
        "        num_of_authors = len(authors)\n",
        "\n",
        "        i = 0;\n",
        "        while i < num_of_authors - 1:\n",
        "            j = i + 1\n",
        "            while j < num_of_authors:\n",
        "                if (authors[i], authors[j]) not in edgelist and (authors[j], authors[i]) not in edgelist:\n",
        "                    edgelist = edgelist + [(authors[i], authors[j])]\n",
        "                j += 1\n",
        "            i += 1\n",
        "    return edgelist"
      ],
      "execution_count": null,
      "outputs": []
    },
    {
      "cell_type": "code",
      "metadata": {
        "id": "G9B7R95dDeRH",
        "colab_type": "code",
        "colab": {}
      },
      "source": [
        ""
      ],
      "execution_count": null,
      "outputs": []
    },
    {
      "cell_type": "code",
      "metadata": {
        "id": "Lk1hrMDPh6NW",
        "colab_type": "code",
        "colab": {}
      },
      "source": [
        "#start of main block where execution will begin\n",
        "if __name__ == '__main__':\n",
        "\n",
        "    #open the file having authorship records\n",
        "    file = None\n",
        "    try:\n",
        "        file = open(\"data.pkl\", 'rb')\n",
        "    except FileNotFoundError:\n",
        "        sys.exit(\"Error: First run coauthorship_scraper.py to generate data.pkl file\")\n",
        "        \n",
        "    data_frame = pickle.load(file)\n",
        "    rows = data_frame.values;\n",
        "\n",
        "\n",
        "    #call function form_edge_list to generate an edge list for the network\n",
        "    edge_list = form_edge_list(rows)"
      ],
      "execution_count": null,
      "outputs": []
    },
    {
      "cell_type": "code",
      "metadata": {
        "id": "wqAGg354DhKE",
        "colab_type": "code",
        "colab": {}
      },
      "source": [
        ""
      ],
      "execution_count": null,
      "outputs": []
    },
    {
      "cell_type": "code",
      "metadata": {
        "id": "1vJn69l6c4S9",
        "colab_type": "code",
        "colab": {
          "base_uri": "https://localhost:8080/",
          "height": 107
        },
        "outputId": "04cf7104-fee7-421f-e0cc-0a6ed24dfd5d"
      },
      "source": [
        "pos = pd.DataFrame(edge_list, columns=['u1','u2'])\n",
        "\n",
        "pos['link'] = 1\n",
        "\n",
        "pos.head(2)"
      ],
      "execution_count": null,
      "outputs": [
        {
          "output_type": "execute_result",
          "data": {
            "text/html": [
              "<div>\n",
              "<style scoped>\n",
              "    .dataframe tbody tr th:only-of-type {\n",
              "        vertical-align: middle;\n",
              "    }\n",
              "\n",
              "    .dataframe tbody tr th {\n",
              "        vertical-align: top;\n",
              "    }\n",
              "\n",
              "    .dataframe thead th {\n",
              "        text-align: right;\n",
              "    }\n",
              "</style>\n",
              "<table border=\"1\" class=\"dataframe\">\n",
              "  <thead>\n",
              "    <tr style=\"text-align: right;\">\n",
              "      <th></th>\n",
              "      <th>u1</th>\n",
              "      <th>u2</th>\n",
              "      <th>link</th>\n",
              "    </tr>\n",
              "  </thead>\n",
              "  <tbody>\n",
              "    <tr>\n",
              "      <th>0</th>\n",
              "      <td>creutzig</td>\n",
              "      <td>gao</td>\n",
              "      <td>1</td>\n",
              "    </tr>\n",
              "    <tr>\n",
              "      <th>1</th>\n",
              "      <td>creutzig</td>\n",
              "      <td>linshaw</td>\n",
              "      <td>1</td>\n",
              "    </tr>\n",
              "  </tbody>\n",
              "</table>\n",
              "</div>"
            ],
            "text/plain": [
              "         u1       u2  link\n",
              "0  creutzig      gao     1\n",
              "1  creutzig  linshaw     1"
            ]
          },
          "metadata": {
            "tags": []
          },
          "execution_count": 4
        }
      ]
    },
    {
      "cell_type": "code",
      "metadata": {
        "id": "ThcAF6iLDpVS",
        "colab_type": "code",
        "colab": {}
      },
      "source": [
        ""
      ],
      "execution_count": null,
      "outputs": []
    },
    {
      "cell_type": "code",
      "metadata": {
        "id": "UJqxTfKSc4Qn",
        "colab_type": "code",
        "colab": {}
      },
      "source": [
        "G = nx.from_pandas_edgelist(pos, 'u1', 'u2', create_using=nx.Graph())"
      ],
      "execution_count": null,
      "outputs": []
    },
    {
      "cell_type": "code",
      "metadata": {
        "id": "KYEHiUsHDu4v",
        "colab_type": "code",
        "colab": {}
      },
      "source": [
        ""
      ],
      "execution_count": null,
      "outputs": []
    },
    {
      "cell_type": "code",
      "metadata": {
        "id": "R8_mHCm22oPM",
        "colab_type": "code",
        "colab": {
          "base_uri": "https://localhost:8080/",
          "height": 51
        },
        "outputId": "be1ca65f-131f-4484-ff2c-5effa31e6ff5"
      },
      "source": [
        "#generating negative examples - \n",
        "\n",
        "from itertools import combinations\n",
        "\n",
        "elements = list(set([e for l in edge_list for e in l])) # find all unique elements\n",
        "\n",
        "complete_list = list(combinations(elements, 2)) # generate all possible combinations\n",
        "\n",
        "#convert to sets to negate the order\n",
        "\n",
        "set1 = [set(l) for l in edge_list]\n",
        "complete_set = [set(l) for l in complete_list]\n",
        "\n",
        "# find sets in `complete_set` but not in `set1`\n",
        "all_unconnnected = [list(l) for l in complete_set if l not in set1]\n",
        "\n",
        "print(len(edge_list))\n",
        "print(len(all_unconnnected))"
      ],
      "execution_count": null,
      "outputs": [
        {
          "output_type": "stream",
          "text": [
            "209\n",
            "18901\n"
          ],
          "name": "stdout"
        }
      ]
    },
    {
      "cell_type": "code",
      "metadata": {
        "id": "F9fXeXBhD0YG",
        "colab_type": "code",
        "colab": {}
      },
      "source": [
        ""
      ],
      "execution_count": null,
      "outputs": []
    },
    {
      "cell_type": "code",
      "metadata": {
        "id": "gFV8IHO4892f",
        "colab_type": "code",
        "colab": {
          "base_uri": "https://localhost:8080/",
          "height": 137
        },
        "outputId": "a1c851c8-dc10-4ee2-c0b5-c99ac32be4da"
      },
      "source": [
        "df_not_connected = pd.DataFrame(all_unconnnected, columns=['u1', 'u2'])\n",
        "df_not_connected['link'] = 0\n",
        "df_not_connected.head(3)"
      ],
      "execution_count": null,
      "outputs": [
        {
          "output_type": "execute_result",
          "data": {
            "text/html": [
              "<div>\n",
              "<style scoped>\n",
              "    .dataframe tbody tr th:only-of-type {\n",
              "        vertical-align: middle;\n",
              "    }\n",
              "\n",
              "    .dataframe tbody tr th {\n",
              "        vertical-align: top;\n",
              "    }\n",
              "\n",
              "    .dataframe thead th {\n",
              "        text-align: right;\n",
              "    }\n",
              "</style>\n",
              "<table border=\"1\" class=\"dataframe\">\n",
              "  <thead>\n",
              "    <tr style=\"text-align: right;\">\n",
              "      <th></th>\n",
              "      <th>u1</th>\n",
              "      <th>u2</th>\n",
              "      <th>link</th>\n",
              "    </tr>\n",
              "  </thead>\n",
              "  <tbody>\n",
              "    <tr>\n",
              "      <th>0</th>\n",
              "      <td>liénardy</td>\n",
              "      <td>girelli</td>\n",
              "      <td>0</td>\n",
              "    </tr>\n",
              "    <tr>\n",
              "      <th>1</th>\n",
              "      <td>liénardy</td>\n",
              "      <td>yadavalli</td>\n",
              "      <td>0</td>\n",
              "    </tr>\n",
              "    <tr>\n",
              "      <th>2</th>\n",
              "      <td>liénardy</td>\n",
              "      <td>rahaman</td>\n",
              "      <td>0</td>\n",
              "    </tr>\n",
              "  </tbody>\n",
              "</table>\n",
              "</div>"
            ],
            "text/plain": [
              "         u1         u2  link\n",
              "0  liénardy    girelli     0\n",
              "1  liénardy  yadavalli     0\n",
              "2  liénardy    rahaman     0"
            ]
          },
          "metadata": {
            "tags": []
          },
          "execution_count": 7
        }
      ]
    },
    {
      "cell_type": "code",
      "metadata": {
        "id": "4sga99L8EfLY",
        "colab_type": "code",
        "colab": {}
      },
      "source": [
        "data = pd.concat([pos, df_not_connected])"
      ],
      "execution_count": null,
      "outputs": []
    },
    {
      "cell_type": "code",
      "metadata": {
        "id": "BGVvFLVbEC3f",
        "colab_type": "code",
        "colab": {
          "base_uri": "https://localhost:8080/",
          "height": 443
        },
        "outputId": "cb261e75-1d51-4705-d074-223adc44cef8"
      },
      "source": [
        "!pip install node2vec"
      ],
      "execution_count": null,
      "outputs": [
        {
          "output_type": "stream",
          "text": [
            "Collecting node2vec\n",
            "  Downloading https://files.pythonhosted.org/packages/c0/da/7f0c49433ef91033e21d523e82be1570074a5d6ab8c74f8771774e9d2fd1/node2vec-0.3.2-py3-none-any.whl\n",
            "Requirement already satisfied: tqdm in /usr/local/lib/python3.6/dist-packages (from node2vec) (4.41.1)\n",
            "Requirement already satisfied: gensim in /usr/local/lib/python3.6/dist-packages (from node2vec) (3.6.0)\n",
            "Requirement already satisfied: numpy in /usr/local/lib/python3.6/dist-packages (from node2vec) (1.18.5)\n",
            "Requirement already satisfied: networkx in /usr/local/lib/python3.6/dist-packages (from node2vec) (2.4)\n",
            "Requirement already satisfied: joblib>=0.13.2 in /usr/local/lib/python3.6/dist-packages (from node2vec) (0.16.0)\n",
            "Requirement already satisfied: six>=1.5.0 in /usr/local/lib/python3.6/dist-packages (from gensim->node2vec) (1.15.0)\n",
            "Requirement already satisfied: scipy>=0.18.1 in /usr/local/lib/python3.6/dist-packages (from gensim->node2vec) (1.4.1)\n",
            "Requirement already satisfied: smart-open>=1.2.1 in /usr/local/lib/python3.6/dist-packages (from gensim->node2vec) (2.1.0)\n",
            "Requirement already satisfied: decorator>=4.3.0 in /usr/local/lib/python3.6/dist-packages (from networkx->node2vec) (4.4.2)\n",
            "Requirement already satisfied: boto3 in /usr/local/lib/python3.6/dist-packages (from smart-open>=1.2.1->gensim->node2vec) (1.14.37)\n",
            "Requirement already satisfied: boto in /usr/local/lib/python3.6/dist-packages (from smart-open>=1.2.1->gensim->node2vec) (2.49.0)\n",
            "Requirement already satisfied: requests in /usr/local/lib/python3.6/dist-packages (from smart-open>=1.2.1->gensim->node2vec) (2.23.0)\n",
            "Requirement already satisfied: jmespath<1.0.0,>=0.7.1 in /usr/local/lib/python3.6/dist-packages (from boto3->smart-open>=1.2.1->gensim->node2vec) (0.10.0)\n",
            "Requirement already satisfied: botocore<1.18.0,>=1.17.37 in /usr/local/lib/python3.6/dist-packages (from boto3->smart-open>=1.2.1->gensim->node2vec) (1.17.37)\n",
            "Requirement already satisfied: s3transfer<0.4.0,>=0.3.0 in /usr/local/lib/python3.6/dist-packages (from boto3->smart-open>=1.2.1->gensim->node2vec) (0.3.3)\n",
            "Requirement already satisfied: urllib3!=1.25.0,!=1.25.1,<1.26,>=1.21.1 in /usr/local/lib/python3.6/dist-packages (from requests->smart-open>=1.2.1->gensim->node2vec) (1.24.3)\n",
            "Requirement already satisfied: idna<3,>=2.5 in /usr/local/lib/python3.6/dist-packages (from requests->smart-open>=1.2.1->gensim->node2vec) (2.10)\n",
            "Requirement already satisfied: chardet<4,>=3.0.2 in /usr/local/lib/python3.6/dist-packages (from requests->smart-open>=1.2.1->gensim->node2vec) (3.0.4)\n",
            "Requirement already satisfied: certifi>=2017.4.17 in /usr/local/lib/python3.6/dist-packages (from requests->smart-open>=1.2.1->gensim->node2vec) (2020.6.20)\n",
            "Requirement already satisfied: python-dateutil<3.0.0,>=2.1 in /usr/local/lib/python3.6/dist-packages (from botocore<1.18.0,>=1.17.37->boto3->smart-open>=1.2.1->gensim->node2vec) (2.8.1)\n",
            "Requirement already satisfied: docutils<0.16,>=0.10 in /usr/local/lib/python3.6/dist-packages (from botocore<1.18.0,>=1.17.37->boto3->smart-open>=1.2.1->gensim->node2vec) (0.15.2)\n",
            "Installing collected packages: node2vec\n",
            "Successfully installed node2vec-0.3.2\n"
          ],
          "name": "stdout"
        }
      ]
    },
    {
      "cell_type": "code",
      "metadata": {
        "id": "aaUyjMiNEI0E",
        "colab_type": "code",
        "colab": {
          "base_uri": "https://localhost:8080/",
          "height": 51
        },
        "outputId": "9d107963-af20-4e58-a330-bd52211bba23"
      },
      "source": [
        "from node2vec import Node2Vec\n",
        "\n",
        "# Generate walks\n",
        "node2vec = Node2Vec(G, dimensions=100, walk_length=16, num_walks=50)\n",
        "\n",
        "# train node2vec model\n",
        "n2w_model = node2vec.fit(window=7, min_count=1)"
      ],
      "execution_count": null,
      "outputs": [
        {
          "output_type": "stream",
          "text": [
            "Computing transition probabilities: 100%|██████████| 196/196 [00:00<00:00, 8946.68it/s]\n",
            "Generating walks (CPU: 1): 100%|██████████| 50/50 [00:08<00:00,  5.58it/s]\n"
          ],
          "name": "stderr"
        }
      ]
    },
    {
      "cell_type": "code",
      "metadata": {
        "id": "n-6jrLzLEPqf",
        "colab_type": "code",
        "colab": {
          "base_uri": "https://localhost:8080/",
          "height": 51
        },
        "outputId": "cf7b2b8e-d66b-4096-e9bd-2f7407d418f3"
      },
      "source": [
        "x = [(n2w_model[str(i)]+n2w_model[str(j)]) for i,j in zip(data['u1'], data['u2'])]"
      ],
      "execution_count": null,
      "outputs": [
        {
          "output_type": "stream",
          "text": [
            "/usr/local/lib/python3.6/dist-packages/ipykernel_launcher.py:1: DeprecationWarning: Call to deprecated `__getitem__` (Method will be removed in 4.0.0, use self.wv.__getitem__() instead).\n",
            "  \"\"\"Entry point for launching an IPython kernel.\n"
          ],
          "name": "stderr"
        }
      ]
    },
    {
      "cell_type": "code",
      "metadata": {
        "id": "8xA_LyhUE0dp",
        "colab_type": "code",
        "colab": {}
      },
      "source": [
        "#models\n",
        "\n",
        "from sklearn.metrics import confusion_matrix\n",
        "from sklearn.model_selection import train_test_split\n",
        "from sklearn.ensemble import RandomForestClassifier\n",
        "from sklearn.neural_network import MLPClassifier\n",
        "from sklearn.tree import DecisionTreeClassifier\n",
        "from sklearn.ensemble import AdaBoostClassifier\n",
        "from sklearn.neighbors import KNeighborsClassifier\n",
        "from sklearn.linear_model import LogisticRegression"
      ],
      "execution_count": null,
      "outputs": []
    },
    {
      "cell_type": "code",
      "metadata": {
        "id": "3vzqFZsbEbA1",
        "colab_type": "code",
        "colab": {}
      },
      "source": [
        "xtrain, xtest, ytrain, ytest = train_test_split(np.array(x), data['link'], \n",
        "                                                test_size = 0.3, \n",
        "                                                random_state = 35)"
      ],
      "execution_count": null,
      "outputs": []
    },
    {
      "cell_type": "code",
      "metadata": {
        "id": "f22GO_F7EtkR",
        "colab_type": "code",
        "colab": {
          "base_uri": "https://localhost:8080/",
          "height": 68
        },
        "outputId": "e095b645-1da0-46e9-ca97-1fe6b32afee8"
      },
      "source": [
        "#Random Forest\n",
        "\n",
        "rc = RandomForestClassifier(n_estimators= 20, max_depth=7, random_state=0, min_samples_leaf=20)\n",
        "\n",
        "rc.fit(xtrain, ytrain)\n",
        "\n",
        "y_pred=rc.predict(xtest)\n",
        "\n",
        "#Import scikit-learn metrics module for accuracy calculation\n",
        "from sklearn import metrics\n",
        "# Model Accuracy, how often is the classifier correct?\n",
        "print (confusion_matrix(ytest, y_pred))\n",
        "print(\"Accuracy:\",metrics.accuracy_score(ytest, y_pred))"
      ],
      "execution_count": null,
      "outputs": [
        {
          "output_type": "stream",
          "text": [
            "[[5674    0]\n",
            " [  59    0]]\n",
            "Accuracy: 0.9897087039944182\n"
          ],
          "name": "stdout"
        }
      ]
    },
    {
      "cell_type": "code",
      "metadata": {
        "id": "gQVWSjylFFyH",
        "colab_type": "code",
        "colab": {
          "base_uri": "https://localhost:8080/",
          "height": 68
        },
        "outputId": "a95107ba-4cae-4ef1-9abe-827c7a051239"
      },
      "source": [
        "#SVM\n",
        "from sklearn import svm\n",
        "\n",
        "clf = svm.SVC(random_state = 0, verbose = True)\n",
        "#clf = svm.SVC()\n",
        "clf.fit(xtrain,ytrain)\n",
        "y_pred = (clf.predict(xtest))\n",
        "\n",
        "print (confusion_matrix(ytest, y_pred))\n",
        "print(\"Accuracy:\",metrics.accuracy_score(ytest, y_pred))"
      ],
      "execution_count": null,
      "outputs": [
        {
          "output_type": "stream",
          "text": [
            "[LibSVM][[5672    2]\n",
            " [  10   49]]\n",
            "Accuracy: 0.9979068550497122\n"
          ],
          "name": "stdout"
        }
      ]
    },
    {
      "cell_type": "code",
      "metadata": {
        "id": "aKEaVLpv8-Iz",
        "colab_type": "code",
        "colab": {
          "base_uri": "https://localhost:8080/",
          "height": 68
        },
        "outputId": "95c5672f-e257-4d01-94da-174bf01dd91e"
      },
      "source": [
        "#naiye bayes\n",
        "from sklearn.naive_bayes import GaussianNB\n",
        "\n",
        "\n",
        "gnb = GaussianNB()\n",
        "gnb.fit(xtrain, ytrain)\n",
        "\n",
        "y_pred_gnb=rc.predict(xtest)\n",
        "\n",
        "print (confusion_matrix(ytest, y_pred_gnb))\n",
        "print(\"Accuracy:\",metrics.accuracy_score(ytest, y_pred_gnb))"
      ],
      "execution_count": null,
      "outputs": [
        {
          "output_type": "stream",
          "text": [
            "[[   0   56]\n",
            " [   0 5795]]\n",
            "Accuracy: 0.9904289864980346\n"
          ],
          "name": "stdout"
        }
      ]
    },
    {
      "cell_type": "code",
      "metadata": {
        "id": "QYHop7apFPT0",
        "colab_type": "code",
        "colab": {
          "base_uri": "https://localhost:8080/",
          "height": 68
        },
        "outputId": "504ca930-6e53-4b1a-a4e6-c8d22448e583"
      },
      "source": [
        "#neural network\n",
        "\n",
        "clf = MLPClassifier(solver='lbfgs', alpha=1e-5,\n",
        "                    hidden_layer_sizes=(5, 2), random_state=1, max_iter = 1000)\n",
        "\t\t#clf = svm.SVC()\n",
        "clf.fit(xtrain, ytrain)\n",
        "\t\t\n",
        "y_pred=(clf.predict(xtest))\n",
        "\n",
        "\n",
        "print (confusion_matrix(ytest, y_pred))\n",
        "print(\"Accuracy:\",metrics.accuracy_score(ytest, y_pred))"
      ],
      "execution_count": null,
      "outputs": [
        {
          "output_type": "stream",
          "text": [
            "[[5674    0]\n",
            " [  59    0]]\n",
            "Accuracy: 0.9897087039944182\n"
          ],
          "name": "stdout"
        }
      ]
    },
    {
      "cell_type": "code",
      "metadata": {
        "id": "8g5cU2KaFXyc",
        "colab_type": "code",
        "colab": {
          "base_uri": "https://localhost:8080/",
          "height": 68
        },
        "outputId": "ed6af7ca-6c75-4c02-d77c-d1f28a1132f3"
      },
      "source": [
        "#adaboost\n",
        "\n",
        "clf = AdaBoostClassifier(DecisionTreeClassifier(max_depth=3),\n",
        "                         algorithm=\"SAMME\",\n",
        "                         n_estimators=20)\n",
        "\t\t#clf = svm.SVC()\n",
        "clf.fit(xtrain,ytrain)\n",
        "\t\t\n",
        "y_pred = (clf.predict(xtest))\n",
        "\n",
        "print (confusion_matrix(ytest, y_pred))\n",
        "print(\"Accuracy:\",metrics.accuracy_score(ytest, y_pred))"
      ],
      "execution_count": null,
      "outputs": [
        {
          "output_type": "stream",
          "text": [
            "[[5670    4]\n",
            " [  34   25]]\n",
            "Accuracy: 0.993371707657422\n"
          ],
          "name": "stdout"
        }
      ]
    },
    {
      "cell_type": "code",
      "metadata": {
        "id": "XfGiKCizFpho",
        "colab_type": "code",
        "colab": {
          "base_uri": "https://localhost:8080/",
          "height": 68
        },
        "outputId": "cb826dc0-a840-493f-e877-dbb4a8a2b00c"
      },
      "source": [
        "#KNN\n",
        "\n",
        "clf = KNeighborsClassifier(n_neighbors=3)\n",
        "clf.fit(xtrain,ytrain)\n",
        "y_pred = clf.predict(xtest)\n",
        "print (confusion_matrix(ytest, y_pred))\n",
        "print(\"Accuracy:\",metrics.accuracy_score(ytest, y_pred))"
      ],
      "execution_count": null,
      "outputs": [
        {
          "output_type": "stream",
          "text": [
            "[[5669    5]\n",
            " [  26   33]]\n",
            "Accuracy: 0.9945927088784232\n"
          ],
          "name": "stdout"
        }
      ]
    },
    {
      "cell_type": "code",
      "metadata": {
        "id": "wlF3MURfFwkQ",
        "colab_type": "code",
        "colab": {
          "base_uri": "https://localhost:8080/",
          "height": 68
        },
        "outputId": "086292e2-427a-412b-94f0-365f62460fb4"
      },
      "source": [
        "lr = LogisticRegression(class_weight=\"balanced\", max_iter = 1000)\n",
        "\n",
        "lr.fit(xtrain, ytrain)\n",
        "\n",
        "predictions = lr.predict(xtest)\n",
        "\n",
        "print (confusion_matrix(predictions, y_pred))\n",
        "print(\"Accuracy:\",metrics.accuracy_score(predictions, y_pred))"
      ],
      "execution_count": null,
      "outputs": [
        {
          "output_type": "stream",
          "text": [
            "[[3528   11]\n",
            " [2167   27]]\n",
            "Accuracy: 0.6200941915227629\n"
          ],
          "name": "stdout"
        }
      ]
    },
    {
      "cell_type": "code",
      "metadata": {
        "id": "Rt1U3h4LGBkL",
        "colab_type": "code",
        "colab": {
          "base_uri": "https://localhost:8080/",
          "height": 699
        },
        "outputId": "4db62ea3-3e26-42e5-c444-4707e584cb9b"
      },
      "source": [
        "import lightgbm as lgbm\n",
        "\n",
        "train_data = lgbm.Dataset(xtrain, ytrain)\n",
        "test_data = lgbm.Dataset(xtest, ytest)\n",
        "\n",
        "# define parameters\n",
        "parameters = {\n",
        "    'objective': 'binary',\n",
        "    'metric': 'auc',\n",
        "    'is_unbalance': 'true',\n",
        "    'feature_fraction': 0.5,\n",
        "    'bagging_fraction': 0.5,\n",
        "    'bagging_freq': 20,\n",
        "    'num_threads' : 2,\n",
        "    'seed' : 76\n",
        "}\n",
        "\n",
        "# train lightGBM model\n",
        "model = lgbm.train(parameters,\n",
        "                   train_data,\n",
        "                   valid_sets=test_data,\n",
        "                   num_boost_round=1000,\n",
        "                   early_stopping_rounds=20)"
      ],
      "execution_count": null,
      "outputs": [
        {
          "output_type": "stream",
          "text": [
            "[1]\tvalid_0's auc: 0.796771\n",
            "Training until validation scores don't improve for 20 rounds.\n",
            "[2]\tvalid_0's auc: 0.830765\n",
            "[3]\tvalid_0's auc: 0.84092\n",
            "[4]\tvalid_0's auc: 0.861323\n",
            "[5]\tvalid_0's auc: 0.865975\n",
            "[6]\tvalid_0's auc: 0.864511\n",
            "[7]\tvalid_0's auc: 0.865741\n",
            "[8]\tvalid_0's auc: 0.867022\n",
            "[9]\tvalid_0's auc: 0.874058\n",
            "[10]\tvalid_0's auc: 0.869082\n",
            "[11]\tvalid_0's auc: 0.868487\n",
            "[12]\tvalid_0's auc: 0.871325\n",
            "[13]\tvalid_0's auc: 0.877562\n",
            "[14]\tvalid_0's auc: 0.887169\n",
            "[15]\tvalid_0's auc: 0.885696\n",
            "[16]\tvalid_0's auc: 0.885266\n",
            "[17]\tvalid_0's auc: 0.891473\n",
            "[18]\tvalid_0's auc: 0.889648\n",
            "[19]\tvalid_0's auc: 0.887877\n",
            "[20]\tvalid_0's auc: 0.888277\n",
            "[21]\tvalid_0's auc: 0.884092\n",
            "[22]\tvalid_0's auc: 0.812424\n",
            "[23]\tvalid_0's auc: 0.822921\n",
            "[24]\tvalid_0's auc: 0.80455\n",
            "[25]\tvalid_0's auc: 0.766583\n",
            "[26]\tvalid_0's auc: 0.755056\n",
            "[27]\tvalid_0's auc: 0.743848\n",
            "[28]\tvalid_0's auc: 0.635121\n",
            "[29]\tvalid_0's auc: 0.636047\n",
            "[30]\tvalid_0's auc: 0.690584\n",
            "[31]\tvalid_0's auc: 0.666059\n",
            "[32]\tvalid_0's auc: 0.587345\n",
            "[33]\tvalid_0's auc: 0.635169\n",
            "[34]\tvalid_0's auc: 0.636307\n",
            "[35]\tvalid_0's auc: 0.639805\n",
            "[36]\tvalid_0's auc: 0.62532\n",
            "[37]\tvalid_0's auc: 0.664443\n",
            "Early stopping, best iteration is:\n",
            "[17]\tvalid_0's auc: 0.891473\n"
          ],
          "name": "stdout"
        }
      ]
    },
    {
      "cell_type": "code",
      "metadata": {
        "id": "cJdih0UtGOgV",
        "colab_type": "code",
        "colab": {
          "base_uri": "https://localhost:8080/",
          "height": 241
        },
        "outputId": "596db1c0-ccb2-42e3-fca4-08c33e8e0ba4"
      },
      "source": [
        "#recommendations:\n",
        "\n",
        "n2w_model.wv.most_similar('alekseev')"
      ],
      "execution_count": null,
      "outputs": [
        {
          "output_type": "stream",
          "text": [
            "/usr/local/lib/python3.6/dist-packages/gensim/matutils.py:737: FutureWarning: Conversion of the second argument of issubdtype from `int` to `np.signedinteger` is deprecated. In future, it will be treated as `np.int64 == np.dtype(int).type`.\n",
            "  if np.issubdtype(vec.dtype, np.int):\n"
          ],
          "name": "stderr"
        },
        {
          "output_type": "execute_result",
          "data": {
            "text/plain": [
              "[('silvestrov', 0.9995461702346802),\n",
              " ('arutyunov', 0.9991171360015869),\n",
              " ('fadel', 0.5218631029129028),\n",
              " ('gepner', 0.50989830493927),\n",
              " ('corazza', 0.5018453001976013),\n",
              " ('schrohe', 0.5001792907714844),\n",
              " ('savin', 0.4962916672229767),\n",
              " ('belavin', 0.4957965910434723),\n",
              " ('wenzl', 0.4819181561470032),\n",
              " ('tang', 0.4756004810333252)]"
            ]
          },
          "metadata": {
            "tags": []
          },
          "execution_count": 29
        }
      ]
    },
    {
      "cell_type": "code",
      "metadata": {
        "id": "gBZ8EgQiGvML",
        "colab_type": "code",
        "colab": {}
      },
      "source": [
        "#edge embedding\n",
        "\n",
        "from node2vec.edges import HadamardEmbedder\n",
        "edges_embs = HadamardEmbedder(keyed_vectors=n2w_model.wv)"
      ],
      "execution_count": null,
      "outputs": []
    },
    {
      "cell_type": "code",
      "metadata": {
        "id": "cyqMyM9LIe97",
        "colab_type": "code",
        "colab": {
          "base_uri": "https://localhost:8080/",
          "height": 258
        },
        "outputId": "9667d940-b5d9-4dfa-9dc2-f8724b37c267"
      },
      "source": [
        "edges_kv = edges_embs.as_keyed_vectors()\n",
        "edges_kv.most_similar(str(('creutzig', 'gao')))"
      ],
      "execution_count": null,
      "outputs": [
        {
          "output_type": "stream",
          "text": [
            "Generating edge features: 100%|██████████| 19306/19306.0 [00:00<00:00, 139824.86it/s]\n",
            "/usr/local/lib/python3.6/dist-packages/gensim/matutils.py:737: FutureWarning: Conversion of the second argument of issubdtype from `int` to `np.signedinteger` is deprecated. In future, it will be treated as `np.int64 == np.dtype(int).type`.\n",
            "  if np.issubdtype(vec.dtype, np.int):\n"
          ],
          "name": "stderr"
        },
        {
          "output_type": "execute_result",
          "data": {
            "text/plain": [
              "[(\"('chen', 'creutzig')\", 0.9966992735862732),\n",
              " (\"('gao', 'linshaw')\", 0.9966665506362915),\n",
              " (\"('creutzig', 'wilde')\", 0.9959723353385925),\n",
              " (\"('creutzig', 'tan')\", 0.9958452582359314),\n",
              " (\"('chen', 'linshaw')\", 0.9956979751586914),\n",
              " (\"('linshaw', 'wilde')\", 0.9939925670623779),\n",
              " (\"('linshaw', 'tan')\", 0.9933345913887024),\n",
              " (\"('gao', 'wilde')\", 0.9928609132766724),\n",
              " (\"('gao', 'gao')\", 0.9894586205482483),\n",
              " (\"('wilde', 'wilde')\", 0.9881450533866882)]"
            ]
          },
          "metadata": {
            "tags": []
          },
          "execution_count": 31
        }
      ]
    },
    {
      "cell_type": "code",
      "metadata": {
        "id": "niVOdLfSIz5a",
        "colab_type": "code",
        "colab": {}
      },
      "source": [
        "#DeepWalk\n",
        "import random\n",
        "def get_randomwalk(node, path_length):\n",
        "    \n",
        "    random_walk = [node]\n",
        "    \n",
        "    for i in range(path_length-1):\n",
        "        temp = list(G.neighbors(node))\n",
        "        temp = list(set(temp) - set(random_walk))    \n",
        "        if len(temp) == 0:\n",
        "            break\n",
        "\n",
        "        random_node = random.choice(temp)\n",
        "        random_walk.append(random_node)\n",
        "        node = random_node\n",
        "        \n",
        "    return random_walk"
      ],
      "execution_count": null,
      "outputs": []
    },
    {
      "cell_type": "code",
      "metadata": {
        "id": "OUu4hemJU-6j",
        "colab_type": "code",
        "colab": {
          "base_uri": "https://localhost:8080/",
          "height": 34
        },
        "outputId": "5700a881-3841-4fff-ccf5-4b8d5dd0c868"
      },
      "source": [
        "get_randomwalk('alekseev', 10)"
      ],
      "execution_count": null,
      "outputs": [
        {
          "output_type": "execute_result",
          "data": {
            "text/plain": [
              "['alekseev', 'silvestrov', 'arutyunov']"
            ]
          },
          "metadata": {
            "tags": []
          },
          "execution_count": 36
        }
      ]
    },
    {
      "cell_type": "code",
      "metadata": {
        "id": "7iU6rnT1VOYj",
        "colab_type": "code",
        "colab": {
          "base_uri": "https://localhost:8080/",
          "height": 51
        },
        "outputId": "10f77a81-95d8-4568-ff8d-4d2bfd5c2627"
      },
      "source": [
        "from tqdm import tqdm\n",
        "# get list of all nodes from the graph\n",
        "all_nodes = list(G.nodes())\n",
        "\n",
        "random_walks = []\n",
        "for n in tqdm(all_nodes):\n",
        "    for i in range(5):\n",
        "        random_walks.append(get_randomwalk(n,10))\n",
        "        \n",
        "# count of sequences\n",
        "len(random_walks)"
      ],
      "execution_count": null,
      "outputs": [
        {
          "output_type": "stream",
          "text": [
            "100%|██████████| 196/196 [00:00<00:00, 8560.70it/s]\n"
          ],
          "name": "stderr"
        },
        {
          "output_type": "execute_result",
          "data": {
            "text/plain": [
              "980"
            ]
          },
          "metadata": {
            "tags": []
          },
          "execution_count": 38
        }
      ]
    },
    {
      "cell_type": "code",
      "metadata": {
        "id": "3nBqMB7UViTO",
        "colab_type": "code",
        "colab": {
          "base_uri": "https://localhost:8080/",
          "height": 34
        },
        "outputId": "44c297f3-3e8e-4095-af3e-36a01011cc86"
      },
      "source": [
        "from gensim.models import Word2Vec\n",
        "\n",
        "import warnings\n",
        "warnings.filterwarnings('ignore')\n",
        "\n",
        "# train skip-gram (word2vec) model\n",
        "model = Word2Vec(window = 4, sg = 1, hs = 0,\n",
        "                 negative = 10, # for negative sampling\n",
        "                 alpha=0.03, min_alpha=0.0007,\n",
        "                 seed = 14)\n",
        "\n",
        "model.build_vocab(random_walks, progress_per=2)\n",
        "\n",
        "model.train(random_walks, total_examples = model.corpus_count, epochs=20, report_delay=1)"
      ],
      "execution_count": null,
      "outputs": [
        {
          "output_type": "execute_result",
          "data": {
            "text/plain": [
              "(41934, 66740)"
            ]
          },
          "metadata": {
            "tags": []
          },
          "execution_count": 40
        }
      ]
    },
    {
      "cell_type": "code",
      "metadata": {
        "id": "a-g3GNEgVstY",
        "colab_type": "code",
        "colab": {
          "base_uri": "https://localhost:8080/",
          "height": 187
        },
        "outputId": "63eba25f-a439-4e6e-cbdc-0f721cfd1386"
      },
      "source": [
        "model.similar_by_word('silvestrov')"
      ],
      "execution_count": null,
      "outputs": [
        {
          "output_type": "execute_result",
          "data": {
            "text/plain": [
              "[('arutyunov', 0.9975031018257141),\n",
              " ('alekseev', 0.9961102604866028),\n",
              " ('einav', 0.9702726602554321),\n",
              " ('martín-ruiz', 0.9696007966995239),\n",
              " ('mason', 0.9693496823310852),\n",
              " ('lapa', 0.9679994583129883),\n",
              " ('dunne', 0.9673644304275513),\n",
              " ('de baerdemacker', 0.9671090245246887),\n",
              " ('fadel', 0.9670577049255371),\n",
              " ('de vos', 0.9669851064682007)]"
            ]
          },
          "metadata": {
            "tags": []
          },
          "execution_count": 41
        }
      ]
    },
    {
      "cell_type": "code",
      "metadata": {
        "id": "oAExrXFNpH78",
        "colab_type": "code",
        "colab": {
          "base_uri": "https://localhost:8080/",
          "height": 187
        },
        "outputId": "718e145a-20ae-4bf6-c7b9-2731df1540cd"
      },
      "source": [
        "n2w_model.most_similar('silvestrov')"
      ],
      "execution_count": null,
      "outputs": [
        {
          "output_type": "execute_result",
          "data": {
            "text/plain": [
              "[('alekseev', 0.9995461702346802),\n",
              " ('arutyunov', 0.9992952346801758),\n",
              " ('fadel', 0.5280466675758362),\n",
              " ('gepner', 0.5087328553199768),\n",
              " ('corazza', 0.5077739357948303),\n",
              " ('schrohe', 0.5052917003631592),\n",
              " ('savin', 0.5016587972640991),\n",
              " ('belavin', 0.49439486861228943),\n",
              " ('wenzl', 0.4805348515510559),\n",
              " ('doussal', 0.4745516777038574)]"
            ]
          },
          "metadata": {
            "tags": []
          },
          "execution_count": 48
        }
      ]
    },
    {
      "cell_type": "code",
      "metadata": {
        "id": "7oPBSCYppN_U",
        "colab_type": "code",
        "colab": {}
      },
      "source": [
        "x_new = [(model[str(i)]+model[str(j)]) for i,j in zip(data['u1'], data['u2'])]"
      ],
      "execution_count": null,
      "outputs": []
    },
    {
      "cell_type": "code",
      "metadata": {
        "id": "JS1qWUHXsThY",
        "colab_type": "code",
        "colab": {}
      },
      "source": [
        "x_train, x_test, y_train, y_test = train_test_split(np.array(x_new), data['link'], \n",
        "                                                test_size = 0.3, \n",
        "                                                random_state = 35)"
      ],
      "execution_count": null,
      "outputs": []
    },
    {
      "cell_type": "code",
      "metadata": {
        "id": "s5Zuo-zzsb44",
        "colab_type": "code",
        "colab": {
          "base_uri": "https://localhost:8080/",
          "height": 68
        },
        "outputId": "e9441c3c-f7e2-40f7-dd87-2d240eb8e164"
      },
      "source": [
        "#Random Forest deep walk\n",
        "\n",
        "rc = RandomForestClassifier(n_estimators= 20, max_depth=7, random_state=0, min_samples_leaf=20)\n",
        "\n",
        "rc.fit(x_train, y_train)\n",
        "\n",
        "y_pred=rc.predict(x_test)\n",
        "\n",
        "#Import scikit-learn metrics module for accuracy calculation\n",
        "from sklearn import metrics\n",
        "# Model Accuracy, how often is the classifier correct?\n",
        "print (confusion_matrix(y_test, y_pred))\n",
        "print(\"Accuracy:\",metrics.accuracy_score(y_test, y_pred))"
      ],
      "execution_count": null,
      "outputs": [
        {
          "output_type": "stream",
          "text": [
            "[[5674    0]\n",
            " [  59    0]]\n",
            "Accuracy: 0.9897087039944182\n"
          ],
          "name": "stdout"
        }
      ]
    },
    {
      "cell_type": "code",
      "metadata": {
        "id": "RB8lf9UKtH-h",
        "colab_type": "code",
        "colab": {
          "base_uri": "https://localhost:8080/",
          "height": 68
        },
        "outputId": "f40add74-6476-4d6c-cc5a-c6012c89a391"
      },
      "source": [
        "#SVM deep walk\n",
        "from sklearn import svm\n",
        "\n",
        "clf = svm.SVC(random_state = 0, verbose = True)\n",
        "#clf = svm.SVC()\n",
        "clf.fit(x_train,y_train)\n",
        "y_pred = (clf.predict(x_test))\n",
        "\n",
        "print (confusion_matrix(y_test, y_pred))\n",
        "print(\"Accuracy:\",metrics.accuracy_score(y_test, y_pred))"
      ],
      "execution_count": null,
      "outputs": [
        {
          "output_type": "stream",
          "text": [
            "[LibSVM][[5674    0]\n",
            " [  53    6]]\n",
            "Accuracy: 0.9907552764695622\n"
          ],
          "name": "stdout"
        }
      ]
    },
    {
      "cell_type": "code",
      "metadata": {
        "id": "gekPbDyktec3",
        "colab_type": "code",
        "colab": {
          "base_uri": "https://localhost:8080/",
          "height": 68
        },
        "outputId": "9a0f9fd9-35c8-47ad-ff85-b45dea310d00"
      },
      "source": [
        "#naiye bayes\n",
        "from sklearn.naive_bayes import GaussianNB\n",
        "\n",
        "\n",
        "gnb = GaussianNB()\n",
        "gnb.fit(x_train, y_train)\n",
        "\n",
        "y_pred_gnb=rc.predict(x_test)\n",
        "\n",
        "print (confusion_matrix(y_test, y_pred_gnb))\n",
        "print(\"Accuracy:\",metrics.accuracy_score(y_test, y_pred_gnb))"
      ],
      "execution_count": null,
      "outputs": [
        {
          "output_type": "stream",
          "text": [
            "[[5674    0]\n",
            " [  59    0]]\n",
            "Accuracy: 0.9897087039944182\n"
          ],
          "name": "stdout"
        }
      ]
    },
    {
      "cell_type": "code",
      "metadata": {
        "id": "gsZHTBLSt6Hf",
        "colab_type": "code",
        "colab": {
          "base_uri": "https://localhost:8080/",
          "height": 68
        },
        "outputId": "3a876e54-442a-41c4-d149-39b6351cd1da"
      },
      "source": [
        "#neural network\n",
        "\n",
        "clf = MLPClassifier(solver='lbfgs', alpha=1e-5,\n",
        "                    hidden_layer_sizes=(5, 2), random_state=1, max_iter = 1000)\n",
        "\t\t#clf = svm.SVC()\n",
        "clf.fit(x_train, y_train)\n",
        "\t\t\n",
        "y_pred=(clf.predict(x_test))\n",
        "\n",
        "\n",
        "print (confusion_matrix(y_test, y_pred))\n",
        "print(\"Accuracy:\",metrics.accuracy_score(y_test, y_pred))"
      ],
      "execution_count": null,
      "outputs": [
        {
          "output_type": "stream",
          "text": [
            "[[5674    0]\n",
            " [  58    1]]\n",
            "Accuracy: 0.9898831327402756\n"
          ],
          "name": "stdout"
        }
      ]
    },
    {
      "cell_type": "code",
      "metadata": {
        "id": "2tNRuB-HuFOC",
        "colab_type": "code",
        "colab": {
          "base_uri": "https://localhost:8080/",
          "height": 68
        },
        "outputId": "49fc19e4-dbbc-438d-8bd7-10e633abb6c4"
      },
      "source": [
        "#adaboost\n",
        "\n",
        "clf = AdaBoostClassifier(DecisionTreeClassifier(max_depth=3),\n",
        "                         algorithm=\"SAMME\",\n",
        "                         n_estimators=20)\n",
        "\t\n",
        "clf.fit(x_train,y_train)\n",
        "\t\t\n",
        "y_pred = (clf.predict(x_test))\n",
        "\n",
        "print (confusion_matrix(y_test, y_pred))\n",
        "print(\"Accuracy:\",metrics.accuracy_score(y_test, y_pred))"
      ],
      "execution_count": null,
      "outputs": [
        {
          "output_type": "stream",
          "text": [
            "[[5669    5]\n",
            " [  49   10]]\n",
            "Accuracy: 0.9905808477237049\n"
          ],
          "name": "stdout"
        }
      ]
    },
    {
      "cell_type": "code",
      "metadata": {
        "id": "7SEc3BaruPfA",
        "colab_type": "code",
        "colab": {
          "base_uri": "https://localhost:8080/",
          "height": 68
        },
        "outputId": "61da7879-180e-4b33-885b-503c1f197158"
      },
      "source": [
        "#KNN\n",
        "\n",
        "clf = KNeighborsClassifier(n_neighbors=3)\n",
        "clf.fit(x_train,y_train)\n",
        "y_pred = clf.predict(x_test)\n",
        "print (confusion_matrix(y_test, y_pred))\n",
        "print(\"Accuracy:\",metrics.accuracy_score(y_test, y_pred))"
      ],
      "execution_count": null,
      "outputs": [
        {
          "output_type": "stream",
          "text": [
            "[[5670    4]\n",
            " [  28   31]]\n",
            "Accuracy: 0.9944182801325658\n"
          ],
          "name": "stdout"
        }
      ]
    },
    {
      "cell_type": "code",
      "metadata": {
        "id": "wbi2jmzAue6R",
        "colab_type": "code",
        "colab": {
          "base_uri": "https://localhost:8080/",
          "height": 68
        },
        "outputId": "25205ef8-f9da-4195-ca9d-f45701c2e220"
      },
      "source": [
        "lr = LogisticRegression(class_weight=\"balanced\", max_iter = 1000)\n",
        "\n",
        "lr.fit(x_train, y_train)\n",
        "\n",
        "predictions = lr.predict(x_test)\n",
        "\n",
        "print (confusion_matrix(predictions, y_pred))\n",
        "print(\"Accuracy:\",metrics.accuracy_score(predictions, y_pred))"
      ],
      "execution_count": null,
      "outputs": [
        {
          "output_type": "stream",
          "text": [
            "[[3738    8]\n",
            " [1960   27]]\n",
            "Accuracy: 0.6567242281527996\n"
          ],
          "name": "stdout"
        }
      ]
    },
    {
      "cell_type": "code",
      "metadata": {
        "id": "FXAlw1rUuoi1",
        "colab_type": "code",
        "colab": {
          "base_uri": "https://localhost:8080/",
          "height": 699
        },
        "outputId": "cd2f3daa-6999-44e9-8328-ae9b691200e0"
      },
      "source": [
        "train_data = lgbm.Dataset(xtrain, ytrain)\n",
        "test_data = lgbm.Dataset(xtest, ytest)\n",
        "\n",
        "# define parameters\n",
        "parameters = {\n",
        "    'objective': 'binary',\n",
        "    'metric': 'auc',\n",
        "    'is_unbalance': 'true',\n",
        "    'feature_fraction': 0.5,\n",
        "    'bagging_fraction': 0.5,\n",
        "    'bagging_freq': 20,\n",
        "    'num_threads' : 2,\n",
        "    'seed' : 76\n",
        "}\n",
        "\n",
        "# train lightGBM model\n",
        "model = lgbm.train(parameters,\n",
        "                   train_data,\n",
        "                   valid_sets=test_data,\n",
        "                   num_boost_round=1000,\n",
        "                   early_stopping_rounds=20)"
      ],
      "execution_count": null,
      "outputs": [
        {
          "output_type": "stream",
          "text": [
            "[1]\tvalid_0's auc: 0.796771\n",
            "Training until validation scores don't improve for 20 rounds.\n",
            "[2]\tvalid_0's auc: 0.830765\n",
            "[3]\tvalid_0's auc: 0.84092\n",
            "[4]\tvalid_0's auc: 0.861323\n",
            "[5]\tvalid_0's auc: 0.865975\n",
            "[6]\tvalid_0's auc: 0.864511\n",
            "[7]\tvalid_0's auc: 0.865741\n",
            "[8]\tvalid_0's auc: 0.867022\n",
            "[9]\tvalid_0's auc: 0.874058\n",
            "[10]\tvalid_0's auc: 0.869082\n",
            "[11]\tvalid_0's auc: 0.868487\n",
            "[12]\tvalid_0's auc: 0.871325\n",
            "[13]\tvalid_0's auc: 0.877562\n",
            "[14]\tvalid_0's auc: 0.887169\n",
            "[15]\tvalid_0's auc: 0.885696\n",
            "[16]\tvalid_0's auc: 0.885266\n",
            "[17]\tvalid_0's auc: 0.891473\n",
            "[18]\tvalid_0's auc: 0.889648\n",
            "[19]\tvalid_0's auc: 0.887877\n",
            "[20]\tvalid_0's auc: 0.888277\n",
            "[21]\tvalid_0's auc: 0.884092\n",
            "[22]\tvalid_0's auc: 0.812424\n",
            "[23]\tvalid_0's auc: 0.822921\n",
            "[24]\tvalid_0's auc: 0.80455\n",
            "[25]\tvalid_0's auc: 0.766583\n",
            "[26]\tvalid_0's auc: 0.755056\n",
            "[27]\tvalid_0's auc: 0.743848\n",
            "[28]\tvalid_0's auc: 0.635121\n",
            "[29]\tvalid_0's auc: 0.636047\n",
            "[30]\tvalid_0's auc: 0.690584\n",
            "[31]\tvalid_0's auc: 0.666059\n",
            "[32]\tvalid_0's auc: 0.587345\n",
            "[33]\tvalid_0's auc: 0.635169\n",
            "[34]\tvalid_0's auc: 0.636307\n",
            "[35]\tvalid_0's auc: 0.639805\n",
            "[36]\tvalid_0's auc: 0.62532\n",
            "[37]\tvalid_0's auc: 0.664443\n",
            "Early stopping, best iteration is:\n",
            "[17]\tvalid_0's auc: 0.891473\n"
          ],
          "name": "stdout"
        }
      ]
    },
    {
      "cell_type": "code",
      "metadata": {
        "id": "f_1z7nasuvLc",
        "colab_type": "code",
        "colab": {
          "base_uri": "https://localhost:8080/",
          "height": 85
        },
        "outputId": "6cb87234-3063-45bb-dd6f-d0821f54a070"
      },
      "source": [
        "\n",
        "from sklearn.cluster import SpectralClustering\n",
        "\n",
        "sc = SpectralClustering(2, affinity='precomputed', n_init=100)\n",
        "sc.fit_predict(x_new)"
      ],
      "execution_count": null,
      "outputs": [
        {
          "output_type": "execute_result",
          "data": {
            "text/plain": [
              "SpectralClustering(affinity='precomputed', assign_labels='kmeans', coef0=1,\n",
              "                   degree=3, eigen_solver=None, eigen_tol=0.0, gamma=1.0,\n",
              "                   kernel_params=None, n_clusters=2, n_components=None,\n",
              "                   n_init=100, n_jobs=None, n_neighbors=10, random_state=None)"
            ]
          },
          "metadata": {
            "tags": []
          },
          "execution_count": 70
        }
      ]
    },
    {
      "cell_type": "code",
      "metadata": {
        "id": "-qulggPe7Lph",
        "colab_type": "code",
        "colab": {
          "base_uri": "https://localhost:8080/",
          "height": 51
        },
        "outputId": "e8e8a96b-b78d-41e9-a215-05d3eaf0e064"
      },
      "source": [
        "list = [('axe',1),\n",
        "        ('bullock', 2),\n",
        "        ('goat', 3)]\n",
        "\n",
        "for node,score in list:\n",
        "  if  score >=2:\n",
        "    print(node)"
      ],
      "execution_count": 3,
      "outputs": [
        {
          "output_type": "stream",
          "text": [
            "bullock\n",
            "goat\n"
          ],
          "name": "stdout"
        }
      ]
    },
    {
      "cell_type": "code",
      "metadata": {
        "id": "FTdhQ4PP3xsB",
        "colab_type": "code",
        "colab": {}
      },
      "source": [
        ""
      ],
      "execution_count": null,
      "outputs": []
    }
  ]
}